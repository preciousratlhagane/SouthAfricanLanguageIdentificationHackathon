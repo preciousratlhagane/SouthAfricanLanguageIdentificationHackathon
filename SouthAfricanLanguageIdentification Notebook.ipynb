{
 "cells": [
  {
   "cell_type": "markdown",
   "id": "93628d19-dae0-4eaa-946e-94a1b3df528c",
   "metadata": {
    "jp-MarkdownHeadingCollapsed": true
   },
   "source": [
    "# Language Identification Hackathon Solution\n",
    "\n",
    "© Explore Data Science Academy\n",
    "\n",
    "---\n",
    "### Honour Code\n",
    "\n",
    "I, **Precious_Ratlhagane**, confirm - by submitting this document - that the solutions in this notebook are a result of my own work and that I abide by the [EDSA honour code](https://drive.google.com/file/d/1QDCjGZJ8-FmJE3bZdIQNwnJyQKPhHZBn/view?usp=sharing).\n",
    "\n",
    "Non-compliance with the honour code constitutes a material breach of contract.\n",
    "\n",
    "### Hackathon overview: South African language identificatiow\n",
    "\n",
    "South Africa is a multicultural society that is characterised by its rich linguistic diversity. Language is an indispensable tool that can be used to deepen democracy and also contribute to the social, cultural, intellectual, economic and political life of the South African society.\n",
    "\n",
    "The country is multilingual with 11 official languages, each of which is guaranteed equal status. Most South Africans are multilingual and able to speak at least two or more of the official languages.\n",
    "\n",
    "From [South African Government](https://www.gov.za/about-sa/south-africas-people)\n",
    "\n",
    "<img src=\"https://www.googleapis.com/download/storage/v1/b/kaggle-user-content/o/inbox%2F2205222%2F7f34544c1b1f61d1a5949bddacfd84a9%2FSouth_Africa_languages_2011.jpg?generation=1604393669339034&alt=media\" alt=\"Number of home-language speakers in 2011 pie chart\" width=50% >\n",
    "\n",
    "With such a multilingual population, it is only obvious that our systems and devices also communicate in multiple languages.\n",
    "\n",
    "In this challenge, you will take text which is in any of South Africa's 11 Official languages and identify which language the text is in. This is an example of NLP's Language Identification, the task of determining the natural language that a piece is written in.\n",
    "\n",
    "[Image credit](https://bilingua.io/how-to-say-hello-in-100-languages)\n",
    "Cit"
   ]
  },
  {
   "cell_type": "markdown",
   "id": "1058bad9-8794-4080-b6e0-4de44958d8cd",
   "metadata": {},
   "source": [
    "<a id=\"cont\"></a>\n",
    "\n",
    "## Table of Contents\n",
    "\n",
    "<a href=#one>1. Importing Packages</a>\n",
    "\n",
    "<a href=#two>2. Loading Data</a>\n",
    "\n",
    "<a href=#three>3. Exploratory Data Analysis (EDA)</a>\n",
    "\n",
    "<a href=#four>4. Data Engineering</a>\n",
    "\n",
    "<a href=#five>5. Modeling</a>\n",
    "\n",
    "<a href=#six>6S. Saving Models"
   ]
  },
  {
   "cell_type": "markdown",
   "id": "9af19d05-8f04-4e96-bf33-4712ee99a33b",
   "metadata": {},
   "source": [
    "<a id=\"one\"></a>\n",
    "## 1. Importing Packages\n",
    "<a href=#cont>Back to Table of Contents</a>"
   ]
  },
  {
   "cell_type": "code",
   "execution_count": 2,
   "id": "885eb000-1097-4376-9d05-33450672be31",
   "metadata": {},
   "outputs": [],
   "source": [
    "import pandas as pd\n",
    "import numpy as np\n",
    "import matplotlib.pyplot as plt\n",
    "%matplotlib inline\n",
    "from matplotlib.colors import ListedColormap\n",
    "\n",
    "from sklearn.feature_extraction.text import CountVectorizer\n",
    "\n",
    "from sklearn.model_selection import cross_val_score\n",
    "from sklearn.model_selection import train_test_split\n",
    "from sklearn import metrics\n",
    "\n",
    "from sklearn.preprocessing import StandardScaler\n",
    "from sklearn.datasets import make_moons, make_circles, make_classification\n",
    "\n",
    "from sklearn.linear_model import LogisticRegression\n",
    "from sklearn.neighbors import KNeighborsClassifier\n",
    "from sklearn.svm import SVC\n",
    "from sklearn.discriminant_analysis import LinearDiscriminantAnalysis\n",
    "from sklearn.discriminant_analysis import QuadraticDiscriminantAnalysis\n",
    "from sklearn.tree import DecisionTreeClassifier\n",
    "from sklearn.ensemble import RandomForestClassifier, AdaBoostClassifier"
   ]
  },
  {
   "cell_type": "markdown",
   "id": "a4dc8159-1cd9-46e7-8d8c-f02966c1350f",
   "metadata": {},
   "source": [
    "<a id=\"two\"></a>\n",
    "## 2. Loading the Data\n",
    "<a class=\"anchor\" id=\"1.1\"></a>\n",
    "<a href=#cont>Back to Table of Contents</a>"
   ]
  },
  {
   "cell_type": "code",
   "execution_count": 3,
   "id": "6871145e-0e87-41e2-b263-cce23a0c896b",
   "metadata": {},
   "outputs": [
    {
     "data": {
      "text/html": [
       "<div>\n",
       "<style scoped>\n",
       "    .dataframe tbody tr th:only-of-type {\n",
       "        vertical-align: middle;\n",
       "    }\n",
       "\n",
       "    .dataframe tbody tr th {\n",
       "        vertical-align: top;\n",
       "    }\n",
       "\n",
       "    .dataframe thead th {\n",
       "        text-align: right;\n",
       "    }\n",
       "</style>\n",
       "<table border=\"1\" class=\"dataframe\">\n",
       "  <thead>\n",
       "    <tr style=\"text-align: right;\">\n",
       "      <th></th>\n",
       "      <th>lang_id</th>\n",
       "      <th>text</th>\n",
       "    </tr>\n",
       "  </thead>\n",
       "  <tbody>\n",
       "    <tr>\n",
       "      <th>0</th>\n",
       "      <td>xho</td>\n",
       "      <td>umgaqo-siseko wenza amalungiselelo kumaziko ax...</td>\n",
       "    </tr>\n",
       "    <tr>\n",
       "      <th>1</th>\n",
       "      <td>xho</td>\n",
       "      <td>i-dha iya kuba nobulumko bokubeka umsebenzi na...</td>\n",
       "    </tr>\n",
       "    <tr>\n",
       "      <th>2</th>\n",
       "      <td>eng</td>\n",
       "      <td>the province of kwazulu-natal department of tr...</td>\n",
       "    </tr>\n",
       "    <tr>\n",
       "      <th>3</th>\n",
       "      <td>nso</td>\n",
       "      <td>o netefatša gore o ba file dilo ka moka tše le...</td>\n",
       "    </tr>\n",
       "    <tr>\n",
       "      <th>4</th>\n",
       "      <td>ven</td>\n",
       "      <td>khomishini ya ndinganyiso ya mbeu yo ewa maana...</td>\n",
       "    </tr>\n",
       "  </tbody>\n",
       "</table>\n",
       "</div>"
      ],
      "text/plain": [
       "  lang_id                                               text\n",
       "0     xho  umgaqo-siseko wenza amalungiselelo kumaziko ax...\n",
       "1     xho  i-dha iya kuba nobulumko bokubeka umsebenzi na...\n",
       "2     eng  the province of kwazulu-natal department of tr...\n",
       "3     nso  o netefatša gore o ba file dilo ka moka tše le...\n",
       "4     ven  khomishini ya ndinganyiso ya mbeu yo ewa maana..."
      ]
     },
     "execution_count": 3,
     "metadata": {},
     "output_type": "execute_result"
    }
   ],
   "source": [
    "#load the training data\n",
    "df_train = pd.read_csv(\"train_set.csv\")\n",
    "df_train.head()"
   ]
  },
  {
   "cell_type": "code",
   "execution_count": 4,
   "id": "5ac37498-6bcb-4dc8-8cc4-2648776b6433",
   "metadata": {},
   "outputs": [
    {
     "data": {
      "text/html": [
       "<div>\n",
       "<style scoped>\n",
       "    .dataframe tbody tr th:only-of-type {\n",
       "        vertical-align: middle;\n",
       "    }\n",
       "\n",
       "    .dataframe tbody tr th {\n",
       "        vertical-align: top;\n",
       "    }\n",
       "\n",
       "    .dataframe thead th {\n",
       "        text-align: right;\n",
       "    }\n",
       "</style>\n",
       "<table border=\"1\" class=\"dataframe\">\n",
       "  <thead>\n",
       "    <tr style=\"text-align: right;\">\n",
       "      <th></th>\n",
       "      <th>index</th>\n",
       "      <th>text</th>\n",
       "    </tr>\n",
       "  </thead>\n",
       "  <tbody>\n",
       "    <tr>\n",
       "      <th>0</th>\n",
       "      <td>1</td>\n",
       "      <td>Mmasepala, fa maemo a a kgethegileng a letlele...</td>\n",
       "    </tr>\n",
       "    <tr>\n",
       "      <th>1</th>\n",
       "      <td>2</td>\n",
       "      <td>Uzakwaziswa ngokufaneleko nakungafuneka eminye...</td>\n",
       "    </tr>\n",
       "    <tr>\n",
       "      <th>2</th>\n",
       "      <td>3</td>\n",
       "      <td>Tshivhumbeo tshi fana na ngano dza vhathu.</td>\n",
       "    </tr>\n",
       "    <tr>\n",
       "      <th>3</th>\n",
       "      <td>4</td>\n",
       "      <td>Kube inja nelikati betingevakala kutsi titsini...</td>\n",
       "    </tr>\n",
       "    <tr>\n",
       "      <th>4</th>\n",
       "      <td>5</td>\n",
       "      <td>Winste op buitelandse valuta.</td>\n",
       "    </tr>\n",
       "  </tbody>\n",
       "</table>\n",
       "</div>"
      ],
      "text/plain": [
       "   index                                               text\n",
       "0      1  Mmasepala, fa maemo a a kgethegileng a letlele...\n",
       "1      2  Uzakwaziswa ngokufaneleko nakungafuneka eminye...\n",
       "2      3         Tshivhumbeo tshi fana na ngano dza vhathu.\n",
       "3      4  Kube inja nelikati betingevakala kutsi titsini...\n",
       "4      5                      Winste op buitelandse valuta."
      ]
     },
     "execution_count": 4,
     "metadata": {},
     "output_type": "execute_result"
    }
   ],
   "source": [
    "#load the test data\n",
    "df_test = pd.read_csv(\"test_set.csv\")\n",
    "df_test.head()"
   ]
  },
  {
   "cell_type": "markdown",
   "id": "fb4127b4-4434-42ba-96f6-9f883e8a6578",
   "metadata": {},
   "source": [
    "<a id=\"three\"></a>\n",
    "## 3. Exploratory Data Analysis (EDA)\n",
    "<a class=\"anchor\" id=\"1.1\"></a>\n",
    "<a href=#cont>Back to Table of Contents</a>"
   ]
  },
  {
   "cell_type": "markdown",
   "id": "1fbc8139",
   "metadata": {},
   "source": [
    "### 3.1 Training dataset"
   ]
  },
  {
   "cell_type": "markdown",
   "id": "8c900fb9",
   "metadata": {},
   "source": [
    "We now begin to analyze the training dataset by looking at the first five rows of the training dataset:"
   ]
  },
  {
   "cell_type": "code",
   "execution_count": 5,
   "id": "814fc35f",
   "metadata": {},
   "outputs": [
    {
     "data": {
      "text/html": [
       "<div>\n",
       "<style scoped>\n",
       "    .dataframe tbody tr th:only-of-type {\n",
       "        vertical-align: middle;\n",
       "    }\n",
       "\n",
       "    .dataframe tbody tr th {\n",
       "        vertical-align: top;\n",
       "    }\n",
       "\n",
       "    .dataframe thead th {\n",
       "        text-align: right;\n",
       "    }\n",
       "</style>\n",
       "<table border=\"1\" class=\"dataframe\">\n",
       "  <thead>\n",
       "    <tr style=\"text-align: right;\">\n",
       "      <th></th>\n",
       "      <th>lang_id</th>\n",
       "      <th>text</th>\n",
       "    </tr>\n",
       "  </thead>\n",
       "  <tbody>\n",
       "    <tr>\n",
       "      <th>0</th>\n",
       "      <td>xho</td>\n",
       "      <td>umgaqo-siseko wenza amalungiselelo kumaziko ax...</td>\n",
       "    </tr>\n",
       "    <tr>\n",
       "      <th>1</th>\n",
       "      <td>xho</td>\n",
       "      <td>i-dha iya kuba nobulumko bokubeka umsebenzi na...</td>\n",
       "    </tr>\n",
       "    <tr>\n",
       "      <th>2</th>\n",
       "      <td>eng</td>\n",
       "      <td>the province of kwazulu-natal department of tr...</td>\n",
       "    </tr>\n",
       "    <tr>\n",
       "      <th>3</th>\n",
       "      <td>nso</td>\n",
       "      <td>o netefatša gore o ba file dilo ka moka tše le...</td>\n",
       "    </tr>\n",
       "    <tr>\n",
       "      <th>4</th>\n",
       "      <td>ven</td>\n",
       "      <td>khomishini ya ndinganyiso ya mbeu yo ewa maana...</td>\n",
       "    </tr>\n",
       "  </tbody>\n",
       "</table>\n",
       "</div>"
      ],
      "text/plain": [
       "  lang_id                                               text\n",
       "0     xho  umgaqo-siseko wenza amalungiselelo kumaziko ax...\n",
       "1     xho  i-dha iya kuba nobulumko bokubeka umsebenzi na...\n",
       "2     eng  the province of kwazulu-natal department of tr...\n",
       "3     nso  o netefatša gore o ba file dilo ka moka tše le...\n",
       "4     ven  khomishini ya ndinganyiso ya mbeu yo ewa maana..."
      ]
     },
     "execution_count": 5,
     "metadata": {},
     "output_type": "execute_result"
    }
   ],
   "source": [
    "df_train.head()"
   ]
  },
  {
   "cell_type": "code",
   "execution_count": 6,
   "id": "b71ccce7",
   "metadata": {},
   "outputs": [
    {
     "name": "stdout",
     "output_type": "stream",
     "text": [
      "['xho', 'eng', 'nso', 'ven', 'tsn', 'nbl', 'zul', 'ssw', 'tso', 'sot', 'afr']\n"
     ]
    }
   ],
   "source": [
    "#determine the number of unique labels in the lang_id feature\n",
    "unique_labels = list(df_train.lang_id.unique())\n",
    "print(unique_labels)"
   ]
  },
  {
   "cell_type": "markdown",
   "id": "fea1490b",
   "metadata": {},
   "source": [
    "We define what each of the lang_id labels represents:\n",
    "* _xho_ = isiXhosa\n",
    "* _eng_ = English\n",
    "* _nso_ = Sepedi\n",
    "* _ven_ = Tshivenda\n",
    "* _tsn_ = Setswana\n",
    "* _nbl_ = isiNdebele\n",
    "* _zul_ = isiZulu\n",
    "* _ssw_ = Siswati\n",
    "* _tso_ = Xitsonga\n",
    "* _sot_ = Sesotho\n",
    "* _afr_ = Afrikaans\n"
   ]
  },
  {
   "cell_type": "code",
   "execution_count": 7,
   "id": "3d9e2605",
   "metadata": {},
   "outputs": [],
   "source": [
    "#Name the labels according to what they represent\n",
    "full_names = {\n",
    "    \"isiXhosa\": df_train[df_train[\"lang_id\"] == \"xho\"],\n",
    "    \"English\": df_train[df_train[\"lang_id\"] == 'eng'],\n",
    "    \"Sepedi\": df_train[df_train[\"lang_id\"] == 'nso'],\n",
    "    \"Tshivenda\": df_train[df_train['lang_id'] == 'ven'],\n",
    "    \"Setswana\": df_train[df_train['lang_id'] == 'tsn'],\n",
    "    \"isiNdebele\": df_train[df_train['lang_id'] == 'nbl'],\n",
    "    \"isiZulu\": df_train[df_train['lang_id'] == 'zul'],\n",
    "    \"Siswati\": df_train[df_train['lang_id'] == 'ssw'],\n",
    "    \"Xitsonga\": df_train[df_train['lang_id'] == 'tso'],\n",
    "    \"Sesotho\": df_train[df_train['lang_id'] == 'sot'],\n",
    "    \"Afrikaans\": df_train[df_train['lang_id'] == 'afr'],\n",
    "}"
   ]
  },
  {
   "cell_type": "markdown",
   "id": "a526195d",
   "metadata": {},
   "source": [
    "We analyze the class distributions of the languages by plotting a bar graph:"
   ]
  },
  {
   "cell_type": "code",
   "execution_count": 8,
   "id": "d530fc8b",
   "metadata": {},
   "outputs": [
    {
     "data": {
      "image/png": "[encoded data removed]",
      "text/plain": [
       "<Figure size 640x480 with 1 Axes>"
      ]
     },
     "metadata": {},
     "output_type": "display_data"
    }
   ],
   "source": [
    "labels = list(full_names.keys())\n",
    "sizes = [len(full_names[label]) for label in labels]\n",
    "\n",
    "plt.pie(sizes, labels=labels, autopct='%1.1f%%', startangle=140, colors=plt.cm.Paired.colors)\n",
    "plt.axis('equal')  # Equal aspect ratio ensures that pie is drawn as a circle.\n",
    "plt.title(\"Distribution of Observations in Language Classes\")\n",
    "plt.show()"
   ]
  },
  {
   "cell_type": "markdown",
   "id": "8e50cbf1",
   "metadata": {},
   "source": [
    "As indicated in the above in the above pie chart, we have the rare case of class balance across all the languages. THis means that our model stands a higher chance of generalizing well to new, unseen data as it has equal observations across all the languages. We proceed with the next step of the Exploratory Data Analysis."
   ]
  },
  {
   "cell_type": "markdown",
   "id": "14017f9e",
   "metadata": {},
   "source": [
    "In text analysis, the most important step in transforming the data into a usable format is removing noise such as capital letters, punctuation etc.\n",
    "For the languages training set, we will be computing the following steps:\n",
    "* Coverting the text to lowercase\n",
    "* Removing punctuation\n",
    "* Tokenizing the text\n",
    "* Removing stopwords"
   ]
  },
  {
   "cell_type": "code",
   "execution_count": 9,
   "id": "f1c71a1e",
   "metadata": {},
   "outputs": [],
   "source": [
    "df_train[\"text\"] = df_train[\"text\"].str.lower()"
   ]
  },
  {
   "cell_type": "markdown",
   "id": "1ae9f549",
   "metadata": {},
   "source": [
    "We remove the punctuation using the `string` import:"
   ]
  },
  {
   "cell_type": "code",
   "execution_count": 10,
   "id": "570a4e48",
   "metadata": {},
   "outputs": [],
   "source": [
    "#import the string module and define a function for removing punctuation\n",
    "import string\n",
    "def remove_punctuation(text):\n",
    "    return ''.join([l for l in text if l not in string.punctuation])"
   ]
  },
  {
   "cell_type": "code",
   "execution_count": 11,
   "id": "96c060d6",
   "metadata": {},
   "outputs": [],
   "source": [
    "#apply the remove punctuation function\n",
    "df_train[\"text\"] = df_train[\"text\"].apply(remove_punctuation)"
   ]
  },
  {
   "cell_type": "markdown",
   "id": "180382f4",
   "metadata": {},
   "source": [
    "We also remove characters that are not characterized as `numbers` or `alphabetic` using the re module:"
   ]
  },
  {
   "cell_type": "code",
   "execution_count": 12,
   "id": "7021e1f0",
   "metadata": {},
   "outputs": [],
   "source": [
    "import re  \n",
    "\n",
    "# Remove non-alphanumeric characters, excluding accented letters\n",
    "df_train['text'] = df_train['text'].apply(lambda x: re.sub(r'[^a-zA-Z0-9\\sáéíóúüñ]', '', x))"
   ]
  },
  {
   "cell_type": "code",
   "execution_count": 13,
   "id": "34527101",
   "metadata": {},
   "outputs": [],
   "source": [
    "#We now tokenize the data\n",
    "from nltk.tokenize import word_tokenize, TreebankWordTokenizer\n",
    "tokeniser = TreebankWordTokenizer()\n",
    "df_train['text'] = df_train['text'].apply(tokeniser.tokenize)"
   ]
  },
  {
   "cell_type": "code",
   "execution_count": 14,
   "id": "9628ad39",
   "metadata": {},
   "outputs": [
    {
     "data": {
      "text/html": [
       "<div>\n",
       "<style scoped>\n",
       "    .dataframe tbody tr th:only-of-type {\n",
       "        vertical-align: middle;\n",
       "    }\n",
       "\n",
       "    .dataframe tbody tr th {\n",
       "        vertical-align: top;\n",
       "    }\n",
       "\n",
       "    .dataframe thead th {\n",
       "        text-align: right;\n",
       "    }\n",
       "</style>\n",
       "<table border=\"1\" class=\"dataframe\">\n",
       "  <thead>\n",
       "    <tr style=\"text-align: right;\">\n",
       "      <th></th>\n",
       "      <th>lang_id</th>\n",
       "      <th>text</th>\n",
       "    </tr>\n",
       "  </thead>\n",
       "  <tbody>\n",
       "    <tr>\n",
       "      <th>0</th>\n",
       "      <td>xho</td>\n",
       "      <td>[umgaqosiseko, wenza, amalungiselelo, kumaziko...</td>\n",
       "    </tr>\n",
       "    <tr>\n",
       "      <th>1</th>\n",
       "      <td>xho</td>\n",
       "      <td>[idha, iya, kuba, nobulumko, bokubeka, umseben...</td>\n",
       "    </tr>\n",
       "    <tr>\n",
       "      <th>2</th>\n",
       "      <td>eng</td>\n",
       "      <td>[the, province, of, kwazulunatal, department, ...</td>\n",
       "    </tr>\n",
       "    <tr>\n",
       "      <th>3</th>\n",
       "      <td>nso</td>\n",
       "      <td>[o, netefata, gore, o, ba, file, dilo, ka, mok...</td>\n",
       "    </tr>\n",
       "    <tr>\n",
       "      <th>4</th>\n",
       "      <td>ven</td>\n",
       "      <td>[khomishini, ya, ndinganyiso, ya, mbeu, yo, ew...</td>\n",
       "    </tr>\n",
       "  </tbody>\n",
       "</table>\n",
       "</div>"
      ],
      "text/plain": [
       "  lang_id                                               text\n",
       "0     xho  [umgaqosiseko, wenza, amalungiselelo, kumaziko...\n",
       "1     xho  [idha, iya, kuba, nobulumko, bokubeka, umseben...\n",
       "2     eng  [the, province, of, kwazulunatal, department, ...\n",
       "3     nso  [o, netefata, gore, o, ba, file, dilo, ka, mok...\n",
       "4     ven  [khomishini, ya, ndinganyiso, ya, mbeu, yo, ew..."
      ]
     },
     "execution_count": 14,
     "metadata": {},
     "output_type": "execute_result"
    }
   ],
   "source": [
    "#check if the function was executed successfully\n",
    "df_train.head()"
   ]
  },
  {
   "cell_type": "markdown",
   "id": "80994a63",
   "metadata": {},
   "source": [
    "### 3.2 Testing dataset"
   ]
  },
  {
   "cell_type": "code",
   "execution_count": 15,
   "id": "39368038",
   "metadata": {},
   "outputs": [],
   "source": [
    "#Convert the text to lowercase\n",
    "df_test[\"text\"] = df_test[\"text\"].str.lower()"
   ]
  },
  {
   "cell_type": "code",
   "execution_count": 16,
   "id": "da265a66",
   "metadata": {},
   "outputs": [],
   "source": [
    "#convert the text data to lowercase\n",
    "df_test['text'] = df_test['text'].apply(remove_punctuation)"
   ]
  },
  {
   "cell_type": "code",
   "execution_count": 17,
   "id": "091af696",
   "metadata": {},
   "outputs": [],
   "source": [
    "#Remove non-alphaumeric characters, excluding accented letters\n",
    "df_test['text'] = df_test['text'].apply(lambda x: re.sub(r'[^a-zA-Z0-9\\sáéíóúüñ]', '', x))"
   ]
  },
  {
   "cell_type": "code",
   "execution_count": 18,
   "id": "7c9ed9ba",
   "metadata": {},
   "outputs": [],
   "source": [
    "#Tokenize the test data\n",
    "df_test['text'] = df_test['text'].apply(tokeniser.tokenize)"
   ]
  },
  {
   "cell_type": "code",
   "execution_count": 19,
   "id": "ce797f1f",
   "metadata": {},
   "outputs": [
    {
     "data": {
      "text/html": [
       "<div>\n",
       "<style scoped>\n",
       "    .dataframe tbody tr th:only-of-type {\n",
       "        vertical-align: middle;\n",
       "    }\n",
       "\n",
       "    .dataframe tbody tr th {\n",
       "        vertical-align: top;\n",
       "    }\n",
       "\n",
       "    .dataframe thead th {\n",
       "        text-align: right;\n",
       "    }\n",
       "</style>\n",
       "<table border=\"1\" class=\"dataframe\">\n",
       "  <thead>\n",
       "    <tr style=\"text-align: right;\">\n",
       "      <th></th>\n",
       "      <th>index</th>\n",
       "      <th>text</th>\n",
       "    </tr>\n",
       "  </thead>\n",
       "  <tbody>\n",
       "    <tr>\n",
       "      <th>0</th>\n",
       "      <td>1</td>\n",
       "      <td>[mmasepala, fa, maemo, a, a, kgethegileng, a, ...</td>\n",
       "    </tr>\n",
       "    <tr>\n",
       "      <th>1</th>\n",
       "      <td>2</td>\n",
       "      <td>[uzakwaziswa, ngokufaneleko, nakungafuneka, em...</td>\n",
       "    </tr>\n",
       "    <tr>\n",
       "      <th>2</th>\n",
       "      <td>3</td>\n",
       "      <td>[tshivhumbeo, tshi, fana, na, ngano, dza, vhathu]</td>\n",
       "    </tr>\n",
       "    <tr>\n",
       "      <th>3</th>\n",
       "      <td>4</td>\n",
       "      <td>[kube, inja, nelikati, betingevakala, kutsi, t...</td>\n",
       "    </tr>\n",
       "    <tr>\n",
       "      <th>4</th>\n",
       "      <td>5</td>\n",
       "      <td>[winste, op, buitelandse, valuta]</td>\n",
       "    </tr>\n",
       "  </tbody>\n",
       "</table>\n",
       "</div>"
      ],
      "text/plain": [
       "   index                                               text\n",
       "0      1  [mmasepala, fa, maemo, a, a, kgethegileng, a, ...\n",
       "1      2  [uzakwaziswa, ngokufaneleko, nakungafuneka, em...\n",
       "2      3  [tshivhumbeo, tshi, fana, na, ngano, dza, vhathu]\n",
       "3      4  [kube, inja, nelikati, betingevakala, kutsi, t...\n",
       "4      5                  [winste, op, buitelandse, valuta]"
      ]
     },
     "execution_count": 19,
     "metadata": {},
     "output_type": "execute_result"
    }
   ],
   "source": [
    "df_test.head()"
   ]
  },
  {
   "cell_type": "markdown",
   "id": "c78f40f6-15f2-46c9-9918-ed89e4a9a7a0",
   "metadata": {},
   "source": [
    "<a id=\"four\"></a>\n",
    "## 4. Data Engineering\n",
    "<a class=\"anchor\" id=\"1.1\"></a>\n",
    "<a href=#cont>Back to Table of Contents</a>"
   ]
  },
  {
   "cell_type": "code",
   "execution_count": 20,
   "id": "9b8f5a7b",
   "metadata": {},
   "outputs": [],
   "source": [
    "#Convert each list of words in the text feature into a single string\n",
    "df_train['text'] = df_train['text'].apply(lambda words: ' '.join(words))"
   ]
  },
  {
   "cell_type": "code",
   "execution_count": 21,
   "id": "115f93fa",
   "metadata": {},
   "outputs": [],
   "source": [
    "#Convert the text data in the test dataset into a single string\n",
    "df_test['text'] = df_test['text'].apply(lambda words: ' '.join(words))"
   ]
  },
  {
   "cell_type": "markdown",
   "id": "7424a537",
   "metadata": {},
   "source": [
    "<a id=\"five\"></a>\n",
    "## 5. Modelling\n",
    "<a class=\"anchor\" id=\"1.1\"></a>\n",
    "<a href=#cont>Back to Table of Contents</a>"
   ]
  },
  {
   "cell_type": "code",
   "execution_count": 22,
   "id": "b84f46de",
   "metadata": {},
   "outputs": [],
   "source": [
    "#Define the variables\n",
    "X = df_train.drop([\"lang_id\"], axis = 1)\n",
    "Y = df_train[\"lang_id\"]"
   ]
  },
  {
   "cell_type": "code",
   "execution_count": 23,
   "id": "afdd240e",
   "metadata": {},
   "outputs": [],
   "source": [
    "from sklearn.feature_extraction.text import CountVectorizer\n",
    "\n",
    "#create a CountVectorizer object\n",
    "vectorizer = CountVectorizer(min_df=2, \n",
    "                             max_df=0.1, \n",
    "                             ngram_range=(1, 2), max_features = 9000)\n",
    "\n",
    "#Fit and transform the X variable\n",
    "X = vectorizer.fit_transform(X[\"text\"])"
   ]
  },
  {
   "cell_type": "code",
   "execution_count": 24,
   "id": "5d733b3b",
   "metadata": {},
   "outputs": [],
   "source": [
    "#Fit and transform the unseen data\n",
    "unseen_data = vectorizer.transform(df_test[\"text\"])"
   ]
  },
  {
   "cell_type": "code",
   "execution_count": 25,
   "id": "2c3bdb9d",
   "metadata": {},
   "outputs": [],
   "source": [
    "from sklearn.preprocessing import LabelEncoder\n",
    "le = LabelEncoder()\n",
    "#Fit label encoder and return encoded labels\n",
    "Y = le.fit_transform(Y)"
   ]
  },
  {
   "cell_type": "code",
   "execution_count": 26,
   "id": "d0b9440d",
   "metadata": {},
   "outputs": [],
   "source": [
    "# List of label encoder types to use for lookup \n",
    "type_labels = list(le.classes_)"
   ]
  },
  {
   "cell_type": "code",
   "execution_count": 27,
   "id": "1f77072f",
   "metadata": {},
   "outputs": [],
   "source": [
    "#Split the data into training and test sets\n",
    "from sklearn.model_selection import train_test_split\n",
    "n = 5000\n",
    "X_train, X_test, y_train, y_test = train_test_split(X[:n].toarray(), Y[:n])"
   ]
  },
  {
   "cell_type": "markdown",
   "id": "ec973214",
   "metadata": {},
   "source": [
    "Let's build some classifiers!"
   ]
  },
  {
   "cell_type": "code",
   "execution_count": 28,
   "id": "6d27ab5f",
   "metadata": {},
   "outputs": [],
   "source": [
    "names = ['Logistic Regression', 'Nearest Neighbors', \n",
    "         'Linear SVM', 'Decision Tree', \n",
    "         'Random Forest',  'AdaBoost']"
   ]
  },
  {
   "cell_type": "code",
   "execution_count": 29,
   "id": "38690ded",
   "metadata": {},
   "outputs": [],
   "source": [
    "classifiers = [\n",
    "    LogisticRegression(), \n",
    "    KNeighborsClassifier(3),\n",
    "    SVC(kernel=\"linear\", C=0.025),\n",
    "    DecisionTreeClassifier(max_depth=5),\n",
    "    RandomForestClassifier(max_depth=5, n_estimators=10, max_features=1),    \n",
    "    AdaBoostClassifier()\n",
    "]"
   ]
  },
  {
   "cell_type": "code",
   "execution_count": 30,
   "id": "b823275a",
   "metadata": {},
   "outputs": [
    {
     "name": "stdout",
     "output_type": "stream",
     "text": [
      "Fitting Logistic Regression model...\n",
      "... predicting\n",
      "... scoring\n",
      "Fitting Nearest Neighbors model...\n",
      "... predicting\n",
      "... scoring\n",
      "Fitting Linear SVM model...\n",
      "... predicting\n",
      "... scoring\n",
      "Fitting Decision Tree model...\n",
      "... predicting\n",
      "... scoring\n",
      "Fitting Random Forest model...\n"
     ]
    },
    {
     "name": "stderr",
     "output_type": "stream",
     "text": [
      "c:\\Users\\preci\\AppData\\Local\\Programs\\Python\\Python312\\Lib\\site-packages\\sklearn\\metrics\\_classification.py:1471: UndefinedMetricWarning: Precision is ill-defined and being set to 0.0 in labels with no predicted samples. Use `zero_division` parameter to control this behavior.\n",
      "  _warn_prf(average, modifier, msg_start, len(result))\n",
      "c:\\Users\\preci\\AppData\\Local\\Programs\\Python\\Python312\\Lib\\site-packages\\sklearn\\metrics\\_classification.py:1471: UndefinedMetricWarning: Precision and F-score are ill-defined and being set to 0.0 in labels with no predicted samples. Use `zero_division` parameter to control this behavior.\n",
      "  _warn_prf(average, modifier, msg_start, len(result))\n",
      "c:\\Users\\preci\\AppData\\Local\\Programs\\Python\\Python312\\Lib\\site-packages\\sklearn\\metrics\\_classification.py:1471: UndefinedMetricWarning: Precision and F-score are ill-defined and being set to 0.0 in labels with no predicted samples. Use `zero_division` parameter to control this behavior.\n",
      "  _warn_prf(average, modifier, msg_start, len(result))\n",
      "c:\\Users\\preci\\AppData\\Local\\Programs\\Python\\Python312\\Lib\\site-packages\\sklearn\\metrics\\_classification.py:1471: UndefinedMetricWarning: Precision and F-score are ill-defined and being set to 0.0 in labels with no predicted samples. Use `zero_division` parameter to control this behavior.\n",
      "  _warn_prf(average, modifier, msg_start, len(result))\n"
     ]
    },
    {
     "name": "stdout",
     "output_type": "stream",
     "text": [
      "... predicting\n",
      "... scoring\n",
      "Fitting AdaBoost model...\n",
      "... predicting\n",
      "... scoring\n",
      "... All done!\n"
     ]
    },
    {
     "name": "stderr",
     "output_type": "stream",
     "text": [
      "c:\\Users\\preci\\AppData\\Local\\Programs\\Python\\Python312\\Lib\\site-packages\\sklearn\\metrics\\_classification.py:1471: UndefinedMetricWarning: Precision is ill-defined and being set to 0.0 in labels with no predicted samples. Use `zero_division` parameter to control this behavior.\n",
      "  _warn_prf(average, modifier, msg_start, len(result))\n",
      "c:\\Users\\preci\\AppData\\Local\\Programs\\Python\\Python312\\Lib\\site-packages\\sklearn\\metrics\\_classification.py:1471: UndefinedMetricWarning: Precision and F-score are ill-defined and being set to 0.0 in labels with no predicted samples. Use `zero_division` parameter to control this behavior.\n",
      "  _warn_prf(average, modifier, msg_start, len(result))\n",
      "c:\\Users\\preci\\AppData\\Local\\Programs\\Python\\Python312\\Lib\\site-packages\\sklearn\\metrics\\_classification.py:1471: UndefinedMetricWarning: Precision and F-score are ill-defined and being set to 0.0 in labels with no predicted samples. Use `zero_division` parameter to control this behavior.\n",
      "  _warn_prf(average, modifier, msg_start, len(result))\n",
      "c:\\Users\\preci\\AppData\\Local\\Programs\\Python\\Python312\\Lib\\site-packages\\sklearn\\metrics\\_classification.py:1471: UndefinedMetricWarning: Precision and F-score are ill-defined and being set to 0.0 in labels with no predicted samples. Use `zero_division` parameter to control this behavior.\n",
      "  _warn_prf(average, modifier, msg_start, len(result))\n"
     ]
    }
   ],
   "source": [
    "results = []\n",
    "\n",
    "models = {}\n",
    "confusion = {}\n",
    "class_report = {}\n",
    "\n",
    "\n",
    "for name, clf in zip(names, classifiers):    \n",
    "    print ('Fitting {:s} model...'.format(name))\n",
    "    run_time = %timeit -q -o clf.fit(X_train, y_train)\n",
    "    \n",
    "    print ('... predicting')\n",
    "    y_pred = clf.predict(X_train)   \n",
    "    y_pred_test = clf.predict(X_test)\n",
    "    \n",
    "    print ('... scoring')\n",
    "    accuracy  = metrics.accuracy_score(y_train, y_pred)\n",
    "    precision = metrics.precision_score(y_train, y_pred, average = \"macro\")\n",
    "    recall    = metrics.recall_score(y_train, y_pred, average = \"macro\")\n",
    "    \n",
    "    f1        = metrics.f1_score(y_train, y_pred, average = \"macro\")    \n",
    "    f1_test   = metrics.f1_score(y_test, y_pred_test, average = \"macro\")    \n",
    "    \n",
    "    # Save the results to dictionaries\n",
    "    models[name] = clf    \n",
    "    confusion[name] = metrics.confusion_matrix(y_train, y_pred)\n",
    "    class_report[name] = metrics.classification_report(y_train, y_pred)\n",
    "    \n",
    "    results.append([name, accuracy, precision, recall, f1, f1_test, run_time.best])\n",
    "\n",
    "    \n",
    "results = pd.DataFrame(results, columns=['Classifier', 'Accuracy', 'Precision', 'Recall', 'F1 Train', 'F1 Test', 'Train Time'])\n",
    "results.set_index('Classifier', inplace= True)\n",
    "\n",
    "print ('... All done!')"
   ]
  },
  {
   "cell_type": "code",
   "execution_count": 31,
   "id": "e0b54049",
   "metadata": {},
   "outputs": [
    {
     "data": {
      "text/html": [
       "<div>\n",
       "<style scoped>\n",
       "    .dataframe tbody tr th:only-of-type {\n",
       "        vertical-align: middle;\n",
       "    }\n",
       "\n",
       "    .dataframe tbody tr th {\n",
       "        vertical-align: top;\n",
       "    }\n",
       "\n",
       "    .dataframe thead th {\n",
       "        text-align: right;\n",
       "    }\n",
       "</style>\n",
       "<table border=\"1\" class=\"dataframe\">\n",
       "  <thead>\n",
       "    <tr style=\"text-align: right;\">\n",
       "      <th></th>\n",
       "      <th>Accuracy</th>\n",
       "      <th>Precision</th>\n",
       "      <th>Recall</th>\n",
       "      <th>F1 Train</th>\n",
       "      <th>F1 Test</th>\n",
       "      <th>Train Time</th>\n",
       "    </tr>\n",
       "    <tr>\n",
       "      <th>Classifier</th>\n",
       "      <th></th>\n",
       "      <th></th>\n",
       "      <th></th>\n",
       "      <th></th>\n",
       "      <th></th>\n",
       "      <th></th>\n",
       "    </tr>\n",
       "  </thead>\n",
       "  <tbody>\n",
       "    <tr>\n",
       "      <th>Logistic Regression</th>\n",
       "      <td>1.000000</td>\n",
       "      <td>1.000000</td>\n",
       "      <td>1.000000</td>\n",
       "      <td>1.000000</td>\n",
       "      <td>0.974431</td>\n",
       "      <td>5.010556</td>\n",
       "    </tr>\n",
       "    <tr>\n",
       "      <th>Linear SVM</th>\n",
       "      <td>0.992800</td>\n",
       "      <td>0.993015</td>\n",
       "      <td>0.992707</td>\n",
       "      <td>0.992809</td>\n",
       "      <td>0.964817</td>\n",
       "      <td>34.625748</td>\n",
       "    </tr>\n",
       "    <tr>\n",
       "      <th>Nearest Neighbors</th>\n",
       "      <td>0.639733</td>\n",
       "      <td>0.886421</td>\n",
       "      <td>0.641012</td>\n",
       "      <td>0.675474</td>\n",
       "      <td>0.544508</td>\n",
       "      <td>0.000481</td>\n",
       "    </tr>\n",
       "    <tr>\n",
       "      <th>Decision Tree</th>\n",
       "      <td>0.498133</td>\n",
       "      <td>0.710788</td>\n",
       "      <td>0.486616</td>\n",
       "      <td>0.446198</td>\n",
       "      <td>0.440144</td>\n",
       "      <td>1.682648</td>\n",
       "    </tr>\n",
       "    <tr>\n",
       "      <th>AdaBoost</th>\n",
       "      <td>0.433067</td>\n",
       "      <td>0.470728</td>\n",
       "      <td>0.425671</td>\n",
       "      <td>0.366868</td>\n",
       "      <td>0.359557</td>\n",
       "      <td>29.266327</td>\n",
       "    </tr>\n",
       "    <tr>\n",
       "      <th>Random Forest</th>\n",
       "      <td>0.214933</td>\n",
       "      <td>0.859494</td>\n",
       "      <td>0.205887</td>\n",
       "      <td>0.207622</td>\n",
       "      <td>0.201661</td>\n",
       "      <td>0.114836</td>\n",
       "    </tr>\n",
       "  </tbody>\n",
       "</table>\n",
       "</div>"
      ],
      "text/plain": [
       "                     Accuracy  Precision    Recall  F1 Train   F1 Test  \\\n",
       "Classifier                                                               \n",
       "Logistic Regression  1.000000   1.000000  1.000000  1.000000  0.974431   \n",
       "Linear SVM           0.992800   0.993015  0.992707  0.992809  0.964817   \n",
       "Nearest Neighbors    0.639733   0.886421  0.641012  0.675474  0.544508   \n",
       "Decision Tree        0.498133   0.710788  0.486616  0.446198  0.440144   \n",
       "AdaBoost             0.433067   0.470728  0.425671  0.366868  0.359557   \n",
       "Random Forest        0.214933   0.859494  0.205887  0.207622  0.201661   \n",
       "\n",
       "                     Train Time  \n",
       "Classifier                       \n",
       "Logistic Regression    5.010556  \n",
       "Linear SVM            34.625748  \n",
       "Nearest Neighbors      0.000481  \n",
       "Decision Tree          1.682648  \n",
       "AdaBoost              29.266327  \n",
       "Random Forest          0.114836  "
      ]
     },
     "execution_count": 31,
     "metadata": {},
     "output_type": "execute_result"
    }
   ],
   "source": [
    "#display the results of the above iteration as a dataframe\n",
    "results.sort_values('F1 Train', ascending=False)"
   ]
  },
  {
   "cell_type": "markdown",
   "id": "0a8a576d",
   "metadata": {},
   "source": [
    "### K-Fold Cross Validation"
   ]
  },
  {
   "cell_type": "markdown",
   "id": "1307e378",
   "metadata": {},
   "source": [
    "Based on the cell above, we note that the Logistic Regression Classifier model and the Linear Support Vector Machine model have the highest F1-score for the training dataset. We now use k-Fold validation which works by fitting a single model to a number of different versions in order to compare how volatile the results of the model are. We define k as being equal to 5:"
   ]
  },
  {
   "cell_type": "code",
   "execution_count": 32,
   "id": "2447abcf",
   "metadata": {},
   "outputs": [
    {
     "name": "stdout",
     "output_type": "stream",
     "text": [
      "\n",
      "Logistic Regression\n",
      "Accuracy: 0.98 (+/- 0.0028)\n",
      "\n",
      "Nearest Neighbors\n",
      "Accuracy: 0.53 (+/- 0.0312)\n",
      "\n",
      "Linear SVM\n",
      "Accuracy: 0.97 (+/- 0.0070)\n",
      "\n",
      "Decision Tree\n",
      "Accuracy: 0.49 (+/- 0.0026)\n",
      "\n",
      "Random Forest\n",
      "Accuracy: 0.16 (+/- 0.0195)\n",
      "\n",
      "AdaBoost\n",
      "Accuracy: 0.48 (+/- 0.0508)\n"
     ]
    }
   ],
   "source": [
    "cv = []\n",
    "for name, model in models.items():\n",
    "    print ()\n",
    "    print(name)\n",
    "    scores = cross_val_score(model, X=X[:n].toarray(), y=Y[:n], cv=5)\n",
    "    print(\"Accuracy: {:0.2f} (+/- {:0.4f})\".format(scores.mean(), scores.std()))\n",
    "    cv.append([name, scores.mean(), scores.std() ])\n",
    "    \n",
    "cv = pd.DataFrame(cv, columns=['Model', 'CV_Mean', 'CV_Std_Dev'])\n",
    "cv.set_index('Model', inplace=True)"
   ]
  },
  {
   "cell_type": "markdown",
   "id": "59b1d56e",
   "metadata": {},
   "source": [
    "<a id=\"six\"></a>\n",
    "## 6. Saving models\n",
    "<a class=\"anchor\" id=\"1.1\"></a>\n",
    "<a href=#cont>Back to Table of Contents</a>"
   ]
  },
  {
   "cell_type": "markdown",
   "id": "d26615f7",
   "metadata": {},
   "source": [
    "### 6.1 Kaggle Submission"
   ]
  },
  {
   "cell_type": "markdown",
   "id": "ce61c816",
   "metadata": {},
   "source": [
    "We now use the Logistic Regression model as well as the Support Vector Machine model that we have trained in previous steps in order to predict the language that a particular text is in. "
   ]
  },
  {
   "cell_type": "markdown",
   "id": "02a9a1d4",
   "metadata": {},
   "source": [
    "#### 6.1.1 Logistic Regression Model"
   ]
  },
  {
   "cell_type": "code",
   "execution_count": 37,
   "id": "2707cce6",
   "metadata": {},
   "outputs": [],
   "source": [
    "model_lr  = models['Logistic Regression']\n",
    "new_pred = model_lr.predict(unseen_data)\n",
    "text_results = [type_labels[num] for num in new_pred]\n",
    "new_df = pd.DataFrame(text_results, columns=['lang_id'])"
   ]
  },
  {
   "cell_type": "code",
   "execution_count": 38,
   "id": "91c0f376",
   "metadata": {},
   "outputs": [],
   "source": [
    "output = pd.DataFrame({\"index\": df_test['index'], 'lang_id': new_df['lang_id']})\n",
    "output.to_csv('Logregpredhack1.csv', index=False)"
   ]
  },
  {
   "cell_type": "markdown",
   "id": "94dd877c",
   "metadata": {},
   "source": [
    "#### 6.1.2 Support Vector Classifier"
   ]
  },
  {
   "cell_type": "code",
   "execution_count": 39,
   "id": "19afd49f",
   "metadata": {},
   "outputs": [],
   "source": [
    "model_svc  = models['Linear SVM']\n",
    "new_pred = model_lr.predict(unseen_data)\n",
    "text_results = [type_labels[num] for num in new_pred]\n",
    "new_df = pd.DataFrame(text_results, columns=['lang_id'])"
   ]
  },
  {
   "cell_type": "code",
   "execution_count": 40,
   "id": "dd389cf5",
   "metadata": {},
   "outputs": [],
   "source": [
    "output = pd.DataFrame({\"index\": df_test['index'], 'lang_id': new_df['lang_id']})\n",
    "output.to_csv('SVMpredhack1.csv', index=False)"
   ]
  }
 ],
 "metadata": {
  "kernelspec": {
   "display_name": "Python 3 (ipykernel)",
   "language": "python",
   "name": "python3"
  },
  "language_info": {
   "codemirror_mode": {
    "name": "ipython",
    "version": 3
   },
   "file_extension": ".py",
   "mimetype": "text/x-python",
   "name": "python",
   "nbconvert_exporter": "python",
   "pygments_lexer": "ipython3",
   "version": "3.12.0"
  }
 },
 "nbformat": 4,
 "nbformat_minor": 5
}
